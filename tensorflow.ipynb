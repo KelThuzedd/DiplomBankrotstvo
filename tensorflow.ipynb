{
 "cells": [
  {
   "cell_type": "code",
   "execution_count": 1,
   "id": "1687a9e74da95cbc",
   "metadata": {
    "ExecuteTime": {
     "end_time": "2024-01-22T16:44:08.502702100Z",
     "start_time": "2024-01-22T16:44:08.315321500Z"
    },
    "collapsed": false
   },
   "outputs": [
    {
     "name": "stderr",
     "output_type": "stream",
     "text": [
      "2024-02-01 09:36:24.288316: I external/local_tsl/tsl/cuda/cudart_stub.cc:31] Could not find cuda drivers on your machine, GPU will not be used.\n",
      "2024-02-01 09:36:24.320099: E external/local_xla/xla/stream_executor/cuda/cuda_dnn.cc:9261] Unable to register cuDNN factory: Attempting to register factory for plugin cuDNN when one has already been registered\n",
      "2024-02-01 09:36:24.320140: E external/local_xla/xla/stream_executor/cuda/cuda_fft.cc:607] Unable to register cuFFT factory: Attempting to register factory for plugin cuFFT when one has already been registered\n",
      "2024-02-01 09:36:24.321343: E external/local_xla/xla/stream_executor/cuda/cuda_blas.cc:1515] Unable to register cuBLAS factory: Attempting to register factory for plugin cuBLAS when one has already been registered\n",
      "2024-02-01 09:36:24.327240: I external/local_tsl/tsl/cuda/cudart_stub.cc:31] Could not find cuda drivers on your machine, GPU will not be used.\n",
      "2024-02-01 09:36:24.327754: I tensorflow/core/platform/cpu_feature_guard.cc:182] This TensorFlow binary is optimized to use available CPU instructions in performance-critical operations.\n",
      "To enable the following instructions: AVX2 FMA, in other operations, rebuild TensorFlow with the appropriate compiler flags.\n",
      "2024-02-01 09:36:25.280194: W tensorflow/compiler/tf2tensorrt/utils/py_utils.cc:38] TF-TRT Warning: Could not find TensorRT\n"
     ]
    }
   ],
   "source": [
    "import pandas as pd\n",
    "from helper_functions import run_experiments\n",
    "# Загружаем данные из формата parquet\n",
    "X_train = pd.read_parquet('data/X_train.parquet')\n",
    "X_test = pd.read_parquet('data/X_test.parquet')\n",
    "y_train = pd.read_parquet('data/y_train.parquet')\n",
    "y_test = pd.read_parquet('data/y_test.parquet')\n"
   ]
  },
  {
   "cell_type": "code",
   "execution_count": 2,
   "id": "initial_id",
   "metadata": {
    "ExecuteTime": {
     "end_time": "2024-01-22T16:44:08.545990Z",
     "start_time": "2024-01-22T16:44:08.502702100Z"
    },
    "collapsed": true
   },
   "outputs": [],
   "source": [
    "output_activation='sigmoid'\n",
    "loss_metric='binary_crossentropy'\n",
    "monitor_metric='val_loss'\n",
    "neurons_list = [[256,256,256]]\n",
    "epochs = [100]\n",
    "batch_size = [8]\n",
    "validation_split = 0.1\n",
    "optimizer = ['adamax']\n",
    "activation = ['leaky_relu']\n",
    "l2 = 0.1\n",
    "patience = 10\n",
    "learning_rate=0\n",
    "dropout = 0.1"
   ]
  },
  {
   "cell_type": "code",
   "execution_count": 3,
   "id": "5436ca43357ddd08",
   "metadata": {
    "ExecuteTime": {
     "end_time": "2024-01-22T16:44:16.202435900Z",
     "start_time": "2024-01-22T16:44:08.534750600Z"
    },
    "collapsed": false
   },
   "outputs": [
    {
     "name": "stdout",
     "output_type": "stream",
     "text": [
      "Epoch 1/100\n",
      "109/111 [============================>.] - ETA: 0s - loss: 15311961.0000 - accuracy: 0.5127INFO:tensorflow:Assets written to: ../data/models/best_model_[256, 256, 256]_100_8_adamax_leaky_relu_0_0.1/assets\n"
     ]
    },
    {
     "name": "stderr",
     "output_type": "stream",
     "text": [
      "INFO:tensorflow:Assets written to: ../data/models/best_model_[256, 256, 256]_100_8_adamax_leaky_relu_0_0.1/assets\n"
     ]
    },
    {
     "name": "stdout",
     "output_type": "stream",
     "text": [
      "111/111 [==============================] - 2s 11ms/step - loss: 15108387.0000 - accuracy: 0.5147 - val_loss: 8602729.0000 - val_accuracy: 0.5265\n",
      "Epoch 2/100\n",
      "105/111 [===========================>..] - ETA: 0s - loss: 13174328.0000 - accuracy: 0.5024INFO:tensorflow:Assets written to: ../data/models/best_model_[256, 256, 256]_100_8_adamax_leaky_relu_0_0.1/assets\n"
     ]
    },
    {
     "name": "stderr",
     "output_type": "stream",
     "text": [
      "INFO:tensorflow:Assets written to: ../data/models/best_model_[256, 256, 256]_100_8_adamax_leaky_relu_0_0.1/assets\n"
     ]
    },
    {
     "name": "stdout",
     "output_type": "stream",
     "text": [
      "111/111 [==============================] - 1s 8ms/step - loss: 12958454.0000 - accuracy: 0.5011 - val_loss: 5626333.0000 - val_accuracy: 0.5899\n",
      "Epoch 3/100\n",
      " 83/111 [=====================>........] - ETA: 0s - loss: 8488095.0000 - accuracy: 0.5319INFO:tensorflow:Assets written to: ../data/models/best_model_[256, 256, 256]_100_8_adamax_leaky_relu_0_0.1/assets\n"
     ]
    },
    {
     "name": "stderr",
     "output_type": "stream",
     "text": [
      "INFO:tensorflow:Assets written to: ../data/models/best_model_[256, 256, 256]_100_8_adamax_leaky_relu_0_0.1/assets\n"
     ]
    },
    {
     "name": "stdout",
     "output_type": "stream",
     "text": [
      "111/111 [==============================] - 1s 8ms/step - loss: 8971943.0000 - accuracy: 0.5340 - val_loss: 5567639.0000 - val_accuracy: 0.5079\n",
      "Epoch 4/100\n",
      "108/111 [============================>.] - ETA: 0s - loss: 7644195.0000 - accuracy: 0.5431INFO:tensorflow:Assets written to: ../data/models/best_model_[256, 256, 256]_100_8_adamax_leaky_relu_0_0.1/assets\n"
     ]
    },
    {
     "name": "stderr",
     "output_type": "stream",
     "text": [
      "INFO:tensorflow:Assets written to: ../data/models/best_model_[256, 256, 256]_100_8_adamax_leaky_relu_0_0.1/assets\n"
     ]
    },
    {
     "name": "stdout",
     "output_type": "stream",
     "text": [
      "111/111 [==============================] - 1s 9ms/step - loss: 8255830.0000 - accuracy: 0.5454 - val_loss: 5082824.0000 - val_accuracy: 0.5926\n",
      "Epoch 5/100\n",
      "111/111 [==============================] - 0s 3ms/step - loss: 8296059.0000 - accuracy: 0.5204 - val_loss: 5709582.0000 - val_accuracy: 0.5159\n",
      "Epoch 6/100\n",
      "110/111 [============================>.] - ETA: 0s - loss: 7245096.0000 - accuracy: 0.5355INFO:tensorflow:Assets written to: ../data/models/best_model_[256, 256, 256]_100_8_adamax_leaky_relu_0_0.1/assets\n"
     ]
    },
    {
     "name": "stderr",
     "output_type": "stream",
     "text": [
      "INFO:tensorflow:Assets written to: ../data/models/best_model_[256, 256, 256]_100_8_adamax_leaky_relu_0_0.1/assets\n"
     ]
    },
    {
     "name": "stdout",
     "output_type": "stream",
     "text": [
      "111/111 [==============================] - 1s 8ms/step - loss: 7190792.5000 - accuracy: 0.5340 - val_loss: 2716927.2500 - val_accuracy: 0.5582\n",
      "Epoch 7/100\n",
      "111/111 [==============================] - 0s 3ms/step - loss: 6209609.5000 - accuracy: 0.5317 - val_loss: 11843224.0000 - val_accuracy: 0.5159\n",
      "Epoch 8/100\n",
      "111/111 [==============================] - 0s 3ms/step - loss: 6388425.0000 - accuracy: 0.5692 - val_loss: 7775830.0000 - val_accuracy: 0.5026\n",
      "Epoch 9/100\n",
      " 85/111 [=====================>........] - ETA: 0s - loss: 4733589.0000 - accuracy: 0.5356INFO:tensorflow:Assets written to: ../data/models/best_model_[256, 256, 256]_100_8_adamax_leaky_relu_0_0.1/assets\n"
     ]
    },
    {
     "name": "stderr",
     "output_type": "stream",
     "text": [
      "INFO:tensorflow:Assets written to: ../data/models/best_model_[256, 256, 256]_100_8_adamax_leaky_relu_0_0.1/assets\n"
     ]
    },
    {
     "name": "stdout",
     "output_type": "stream",
     "text": [
      "111/111 [==============================] - 1s 7ms/step - loss: 5325507.5000 - accuracy: 0.5329 - val_loss: 1866487.0000 - val_accuracy: 0.5423\n",
      "Epoch 10/100\n",
      "111/111 [==============================] - 0s 3ms/step - loss: 6055928.5000 - accuracy: 0.5420 - val_loss: 3892627.7500 - val_accuracy: 0.5106\n",
      "Epoch 11/100\n",
      "111/111 [==============================] - 0s 3ms/step - loss: 4207749.0000 - accuracy: 0.5533 - val_loss: 2563428.0000 - val_accuracy: 0.5741\n",
      "Epoch 12/100\n",
      "111/111 [==============================] - 0s 2ms/step - loss: 3605361.2500 - accuracy: 0.5431 - val_loss: 2638795.2500 - val_accuracy: 0.5370\n",
      "Epoch 13/100\n",
      "102/111 [==========================>...] - ETA: 0s - loss: 4927539.0000 - accuracy: 0.5568INFO:tensorflow:Assets written to: ../data/models/best_model_[256, 256, 256]_100_8_adamax_leaky_relu_0_0.1/assets\n"
     ]
    },
    {
     "name": "stderr",
     "output_type": "stream",
     "text": [
      "INFO:tensorflow:Assets written to: ../data/models/best_model_[256, 256, 256]_100_8_adamax_leaky_relu_0_0.1/assets\n"
     ]
    },
    {
     "name": "stdout",
     "output_type": "stream",
     "text": [
      "111/111 [==============================] - 1s 8ms/step - loss: 4948815.0000 - accuracy: 0.5510 - val_loss: 1856455.0000 - val_accuracy: 0.5132\n",
      "Epoch 14/100\n",
      "111/111 [==============================] - 0s 3ms/step - loss: 4171078.7500 - accuracy: 0.5454 - val_loss: 2063406.0000 - val_accuracy: 0.5291\n",
      "Epoch 15/100\n",
      " 85/111 [=====================>........] - ETA: 0s - loss: 4139148.5000 - accuracy: 0.5089INFO:tensorflow:Assets written to: ../data/models/best_model_[256, 256, 256]_100_8_adamax_leaky_relu_0_0.1/assets\n"
     ]
    },
    {
     "name": "stderr",
     "output_type": "stream",
     "text": [
      "INFO:tensorflow:Assets written to: ../data/models/best_model_[256, 256, 256]_100_8_adamax_leaky_relu_0_0.1/assets\n"
     ]
    },
    {
     "name": "stdout",
     "output_type": "stream",
     "text": [
      "111/111 [==============================] - 1s 8ms/step - loss: 4269671.5000 - accuracy: 0.5261 - val_loss: 1779806.1250 - val_accuracy: 0.5582\n",
      "Epoch 16/100\n",
      " 84/111 [=====================>........] - ETA: 0s - loss: 3637459.7500 - accuracy: 0.5420INFO:tensorflow:Assets written to: ../data/models/best_model_[256, 256, 256]_100_8_adamax_leaky_relu_0_0.1/assets\n"
     ]
    },
    {
     "name": "stderr",
     "output_type": "stream",
     "text": [
      "INFO:tensorflow:Assets written to: ../data/models/best_model_[256, 256, 256]_100_8_adamax_leaky_relu_0_0.1/assets\n"
     ]
    },
    {
     "name": "stdout",
     "output_type": "stream",
     "text": [
      "111/111 [==============================] - 1s 7ms/step - loss: 3760115.0000 - accuracy: 0.5249 - val_loss: 1445870.5000 - val_accuracy: 0.5238\n",
      "Epoch 17/100\n",
      "111/111 [==============================] - 0s 3ms/step - loss: 2771655.7500 - accuracy: 0.5499 - val_loss: 1783931.7500 - val_accuracy: 0.5397\n",
      "Epoch 18/100\n",
      "111/111 [==============================] - 0s 3ms/step - loss: 2725952.2500 - accuracy: 0.5340 - val_loss: 2081380.8750 - val_accuracy: 0.5767\n",
      "Epoch 19/100\n",
      "111/111 [==============================] - 0s 3ms/step - loss: 3570629.7500 - accuracy: 0.5556 - val_loss: 2911666.5000 - val_accuracy: 0.5026\n",
      "Epoch 20/100\n",
      "111/111 [==============================] - 0s 3ms/step - loss: 2566116.5000 - accuracy: 0.5261 - val_loss: 1560393.2500 - val_accuracy: 0.5635\n",
      "Epoch 21/100\n",
      "111/111 [==============================] - 0s 2ms/step - loss: 3152041.0000 - accuracy: 0.5862 - val_loss: 1601590.3750 - val_accuracy: 0.5450\n",
      "Epoch 22/100\n",
      "111/111 [==============================] - 0s 3ms/step - loss: 3373069.2500 - accuracy: 0.5431 - val_loss: 2725411.5000 - val_accuracy: 0.5026\n",
      "Epoch 23/100\n",
      "111/111 [==============================] - 0s 3ms/step - loss: 2388577.5000 - accuracy: 0.5408 - val_loss: 1752163.2500 - val_accuracy: 0.5979\n",
      "Epoch 24/100\n",
      "105/111 [===========================>..] - ETA: 0s - loss: 2299242.0000 - accuracy: 0.5408INFO:tensorflow:Assets written to: ../data/models/best_model_[256, 256, 256]_100_8_adamax_leaky_relu_0_0.1/assets\n"
     ]
    },
    {
     "name": "stderr",
     "output_type": "stream",
     "text": [
      "INFO:tensorflow:Assets written to: ../data/models/best_model_[256, 256, 256]_100_8_adamax_leaky_relu_0_0.1/assets\n"
     ]
    },
    {
     "name": "stdout",
     "output_type": "stream",
     "text": [
      "111/111 [==============================] - 1s 10ms/step - loss: 2318888.5000 - accuracy: 0.5465 - val_loss: 1143201.7500 - val_accuracy: 0.5476\n",
      "Epoch 25/100\n",
      "111/111 [==============================] - 0s 2ms/step - loss: 2393757.0000 - accuracy: 0.5170 - val_loss: 2095437.2500 - val_accuracy: 0.5238\n",
      "Epoch 26/100\n",
      "111/111 [==============================] - 0s 2ms/step - loss: 2100449.7500 - accuracy: 0.5249 - val_loss: 1585439.0000 - val_accuracy: 0.5556\n",
      "Epoch 27/100\n",
      "111/111 [==============================] - 0s 3ms/step - loss: 2147804.2500 - accuracy: 0.5374 - val_loss: 1904119.5000 - val_accuracy: 0.5159\n",
      "Epoch 28/100\n",
      "111/111 [==============================] - 0s 2ms/step - loss: 2010433.6250 - accuracy: 0.5408 - val_loss: 1207141.0000 - val_accuracy: 0.5212\n",
      "Epoch 29/100\n",
      "111/111 [==============================] - 0s 3ms/step - loss: 2039525.7500 - accuracy: 0.5147 - val_loss: 1578306.8750 - val_accuracy: 0.5132\n",
      "Epoch 30/100\n",
      "111/111 [==============================] - 0s 3ms/step - loss: 1762396.8750 - accuracy: 0.5714 - val_loss: 1633444.8750 - val_accuracy: 0.5344\n",
      "Epoch 31/100\n",
      " 85/111 [=====================>........] - ETA: 0s - loss: 2482340.0000 - accuracy: 0.5282INFO:tensorflow:Assets written to: ../data/models/best_model_[256, 256, 256]_100_8_adamax_leaky_relu_0_0.1/assets\n"
     ]
    },
    {
     "name": "stderr",
     "output_type": "stream",
     "text": [
      "INFO:tensorflow:Assets written to: ../data/models/best_model_[256, 256, 256]_100_8_adamax_leaky_relu_0_0.1/assets\n"
     ]
    },
    {
     "name": "stdout",
     "output_type": "stream",
     "text": [
      "111/111 [==============================] - 1s 8ms/step - loss: 2273865.7500 - accuracy: 0.5272 - val_loss: 1135901.2500 - val_accuracy: 0.5106\n",
      "Epoch 32/100\n",
      " 86/111 [======================>.......] - ETA: 0s - loss: 1815226.3750 - accuracy: 0.5704INFO:tensorflow:Assets written to: ../data/models/best_model_[256, 256, 256]_100_8_adamax_leaky_relu_0_0.1/assets\n"
     ]
    },
    {
     "name": "stderr",
     "output_type": "stream",
     "text": [
      "INFO:tensorflow:Assets written to: ../data/models/best_model_[256, 256, 256]_100_8_adamax_leaky_relu_0_0.1/assets\n"
     ]
    },
    {
     "name": "stdout",
     "output_type": "stream",
     "text": [
      "111/111 [==============================] - 1s 7ms/step - loss: 1786366.8750 - accuracy: 0.5771 - val_loss: 836202.0625 - val_accuracy: 0.5794\n",
      "Epoch 33/100\n",
      "111/111 [==============================] - 0s 2ms/step - loss: 1676685.0000 - accuracy: 0.5510 - val_loss: 991015.0000 - val_accuracy: 0.5556\n",
      "Epoch 34/100\n",
      "111/111 [==============================] - 0s 3ms/step - loss: 1972324.1250 - accuracy: 0.5215 - val_loss: 1137705.5000 - val_accuracy: 0.5265\n",
      "Epoch 35/100\n",
      "111/111 [==============================] - 0s 3ms/step - loss: 1651727.6250 - accuracy: 0.5488 - val_loss: 837550.7500 - val_accuracy: 0.5503\n",
      "Epoch 36/100\n",
      "111/111 [==============================] - 0s 3ms/step - loss: 1683175.0000 - accuracy: 0.5465 - val_loss: 1077873.1250 - val_accuracy: 0.5926\n",
      "Epoch 37/100\n",
      "111/111 [==============================] - 0s 3ms/step - loss: 1402075.6250 - accuracy: 0.5408 - val_loss: 1486508.5000 - val_accuracy: 0.4921\n",
      "Epoch 38/100\n",
      " 83/111 [=====================>........] - ETA: 0s - loss: 2073933.1250 - accuracy: 0.5181INFO:tensorflow:Assets written to: ../data/models/best_model_[256, 256, 256]_100_8_adamax_leaky_relu_0_0.1/assets\n"
     ]
    },
    {
     "name": "stderr",
     "output_type": "stream",
     "text": [
      "INFO:tensorflow:Assets written to: ../data/models/best_model_[256, 256, 256]_100_8_adamax_leaky_relu_0_0.1/assets\n"
     ]
    },
    {
     "name": "stdout",
     "output_type": "stream",
     "text": [
      "111/111 [==============================] - 1s 8ms/step - loss: 2133437.0000 - accuracy: 0.5136 - val_loss: 824511.5000 - val_accuracy: 0.5529\n",
      "Epoch 39/100\n",
      "111/111 [==============================] - 0s 3ms/step - loss: 1456408.6250 - accuracy: 0.5295 - val_loss: 1188296.6250 - val_accuracy: 0.5688\n",
      "Epoch 40/100\n",
      "111/111 [==============================] - 0s 3ms/step - loss: 1511628.5000 - accuracy: 0.5499 - val_loss: 1453280.5000 - val_accuracy: 0.5053\n",
      "Epoch 41/100\n",
      "111/111 [==============================] - 0s 2ms/step - loss: 1542789.1250 - accuracy: 0.5476 - val_loss: 868193.7500 - val_accuracy: 0.5265\n",
      "Epoch 42/100\n",
      "111/111 [==============================] - 0s 2ms/step - loss: 1533484.7500 - accuracy: 0.5420 - val_loss: 1115997.5000 - val_accuracy: 0.5265\n",
      "Epoch 43/100\n",
      "111/111 [==============================] - 0s 3ms/step - loss: 1342053.2500 - accuracy: 0.5215 - val_loss: 909737.2500 - val_accuracy: 0.4921\n",
      "Epoch 44/100\n",
      "111/111 [==============================] - 0s 2ms/step - loss: 1047259.8125 - accuracy: 0.5408 - val_loss: 1127478.1250 - val_accuracy: 0.5423\n",
      "Epoch 45/100\n",
      " 86/111 [======================>.......] - ETA: 0s - loss: 1499039.7500 - accuracy: 0.5367INFO:tensorflow:Assets written to: ../data/models/best_model_[256, 256, 256]_100_8_adamax_leaky_relu_0_0.1/assets\n"
     ]
    },
    {
     "name": "stderr",
     "output_type": "stream",
     "text": [
      "INFO:tensorflow:Assets written to: ../data/models/best_model_[256, 256, 256]_100_8_adamax_leaky_relu_0_0.1/assets\n"
     ]
    },
    {
     "name": "stdout",
     "output_type": "stream",
     "text": [
      "111/111 [==============================] - 1s 7ms/step - loss: 1551195.6250 - accuracy: 0.5397 - val_loss: 772510.8125 - val_accuracy: 0.5714\n",
      "Epoch 46/100\n",
      "111/111 [==============================] - ETA: 0s - loss: 1564099.8750 - accuracy: 0.5465INFO:tensorflow:Assets written to: ../data/models/best_model_[256, 256, 256]_100_8_adamax_leaky_relu_0_0.1/assets\n"
     ]
    },
    {
     "name": "stderr",
     "output_type": "stream",
     "text": [
      "INFO:tensorflow:Assets written to: ../data/models/best_model_[256, 256, 256]_100_8_adamax_leaky_relu_0_0.1/assets\n"
     ]
    },
    {
     "name": "stdout",
     "output_type": "stream",
     "text": [
      "111/111 [==============================] - 1s 8ms/step - loss: 1564099.8750 - accuracy: 0.5465 - val_loss: 494664.5000 - val_accuracy: 0.5741\n",
      "Epoch 47/100\n",
      "102/111 [==========================>...] - ETA: 0s - loss: 1029154.8750 - accuracy: 0.5457INFO:tensorflow:Assets written to: ../data/models/best_model_[256, 256, 256]_100_8_adamax_leaky_relu_0_0.1/assets\n"
     ]
    },
    {
     "name": "stderr",
     "output_type": "stream",
     "text": [
      "INFO:tensorflow:Assets written to: ../data/models/best_model_[256, 256, 256]_100_8_adamax_leaky_relu_0_0.1/assets\n"
     ]
    },
    {
     "name": "stdout",
     "output_type": "stream",
     "text": [
      "111/111 [==============================] - 1s 9ms/step - loss: 1026379.3750 - accuracy: 0.5442 - val_loss: 374021.6875 - val_accuracy: 0.5556\n",
      "Epoch 48/100\n",
      "111/111 [==============================] - 0s 3ms/step - loss: 1264775.8750 - accuracy: 0.5703 - val_loss: 1282388.1250 - val_accuracy: 0.5291\n",
      "Epoch 49/100\n",
      "111/111 [==============================] - 0s 2ms/step - loss: 1391696.1250 - accuracy: 0.5329 - val_loss: 489528.6875 - val_accuracy: 0.5767\n",
      "Epoch 50/100\n",
      "111/111 [==============================] - 0s 2ms/step - loss: 1069190.0000 - accuracy: 0.5215 - val_loss: 963480.1875 - val_accuracy: 0.5423\n",
      "Epoch 51/100\n",
      "111/111 [==============================] - 0s 3ms/step - loss: 1079449.8750 - accuracy: 0.5488 - val_loss: 647671.3125 - val_accuracy: 0.5476\n",
      "Epoch 52/100\n",
      "111/111 [==============================] - 0s 3ms/step - loss: 1189435.1250 - accuracy: 0.5465 - val_loss: 545330.3750 - val_accuracy: 0.5820\n",
      "Epoch 53/100\n",
      "111/111 [==============================] - 0s 2ms/step - loss: 1027875.9375 - accuracy: 0.5533 - val_loss: 645607.5625 - val_accuracy: 0.5820\n",
      "Epoch 54/100\n",
      "111/111 [==============================] - 0s 2ms/step - loss: 1232059.8750 - accuracy: 0.5703 - val_loss: 714461.0625 - val_accuracy: 0.5476\n",
      "Epoch 55/100\n",
      "111/111 [==============================] - 0s 3ms/step - loss: 1040589.8125 - accuracy: 0.5510 - val_loss: 450314.4688 - val_accuracy: 0.5423\n",
      "Epoch 56/100\n",
      "111/111 [==============================] - 0s 3ms/step - loss: 869925.1250 - accuracy: 0.5249 - val_loss: 1600186.8750 - val_accuracy: 0.5026\n",
      "Epoch 57/100\n",
      "111/111 [==============================] - 0s 2ms/step - loss: 948217.3125 - accuracy: 0.5499 - val_loss: 662204.3750 - val_accuracy: 0.5238\n"
     ]
    },
    {
     "data": {
      "image/png": "[encoded data removed]",
      "text/plain": [
       "<Figure size 640x480 with 1 Axes>"
      ]
     },
     "metadata": {},
     "output_type": "display_data"
    },
    {
     "name": "stdout",
     "output_type": "stream",
     "text": [
      "48/48 [==============================] - 0s 1ms/step\n",
      "Accuracy on validation data: 0.5555555555555556\n",
      "Precision on validation data: 0.5606936416184971\n",
      "Recall on validation data: 0.5132275132275133\n",
      "F1 Score on validation data: 0.5359116022099447\n"
     ]
    }
   ],
   "source": [
    "new_results_df,model = run_experiments(neurons_list, X_train, y_train, X_test, y_test, epochs, batch_size, validation_split, optimizer, activation, l2, patience, learning_rate, dropout,output_activation,loss_metric,monitor_metric) # Сама функция нейросети"
   ]
  },
  {
   "cell_type": "code",
   "execution_count": 4,
   "id": "7a8c5c388515145f",
   "metadata": {
    "ExecuteTime": {
     "end_time": "2024-01-22T16:45:11.733549300Z",
     "start_time": "2024-01-22T16:45:11.628201Z"
    },
    "collapsed": false
   },
   "outputs": [
    {
     "data": {
      "text/html": [
       "<div>\n",
       "<style scoped>\n",
       "    .dataframe tbody tr th:only-of-type {\n",
       "        vertical-align: middle;\n",
       "    }\n",
       "\n",
       "    .dataframe tbody tr th {\n",
       "        vertical-align: top;\n",
       "    }\n",
       "\n",
       "    .dataframe thead th {\n",
       "        text-align: right;\n",
       "    }\n",
       "</style>\n",
       "<table border=\"1\" class=\"dataframe\">\n",
       "  <thead>\n",
       "    <tr style=\"text-align: right;\">\n",
       "      <th></th>\n",
       "      <th>[64, 32, 32]</th>\n",
       "      <th>3</th>\n",
       "      <th>10107106.0</th>\n",
       "      <th>3404044.25</th>\n",
       "      <th>adam</th>\n",
       "      <th>relu</th>\n",
       "      <th>5</th>\n",
       "      <th>64</th>\n",
       "      <th>0.1</th>\n",
       "      <th>0.5264550264550265</th>\n",
       "      <th>0.5</th>\n",
       "      <th>0.8435754189944135</th>\n",
       "      <th>0.6278586278586279</th>\n",
       "      <th>0.1.1</th>\n",
       "    </tr>\n",
       "  </thead>\n",
       "  <tbody>\n",
       "    <tr>\n",
       "      <th>0</th>\n",
       "      <td>[64, 32, 32]</td>\n",
       "      <td>3</td>\n",
       "      <td>2.295628e+07</td>\n",
       "      <td>1.039324e+07</td>\n",
       "      <td>adam</td>\n",
       "      <td>relu</td>\n",
       "      <td>5</td>\n",
       "      <td>64</td>\n",
       "      <td>0.1</td>\n",
       "      <td>0.558201</td>\n",
       "      <td>0.551887</td>\n",
       "      <td>0.619048</td>\n",
       "      <td>0.583541</td>\n",
       "      <td>0.1</td>\n",
       "    </tr>\n",
       "    <tr>\n",
       "      <th>1</th>\n",
       "      <td>[64, 32, 32]</td>\n",
       "      <td>3</td>\n",
       "      <td>1.183516e+07</td>\n",
       "      <td>2.998126e+06</td>\n",
       "      <td>adam</td>\n",
       "      <td>relu</td>\n",
       "      <td>5</td>\n",
       "      <td>64</td>\n",
       "      <td>0.1</td>\n",
       "      <td>0.457672</td>\n",
       "      <td>0.469925</td>\n",
       "      <td>0.661376</td>\n",
       "      <td>0.549451</td>\n",
       "      <td>0.1</td>\n",
       "    </tr>\n",
       "    <tr>\n",
       "      <th>2</th>\n",
       "      <td>[256, 256, 256]</td>\n",
       "      <td>3</td>\n",
       "      <td>4.366338e+06</td>\n",
       "      <td>1.950166e+06</td>\n",
       "      <td>adam</td>\n",
       "      <td>relu</td>\n",
       "      <td>5</td>\n",
       "      <td>16</td>\n",
       "      <td>0.1</td>\n",
       "      <td>0.513228</td>\n",
       "      <td>0.507886</td>\n",
       "      <td>0.851852</td>\n",
       "      <td>0.636364</td>\n",
       "      <td>0.1</td>\n",
       "    </tr>\n",
       "    <tr>\n",
       "      <th>3</th>\n",
       "      <td>[256, 256, 256]</td>\n",
       "      <td>3</td>\n",
       "      <td>1.138646e+04</td>\n",
       "      <td>1.759928e+04</td>\n",
       "      <td>adam</td>\n",
       "      <td>relu</td>\n",
       "      <td>30</td>\n",
       "      <td>16</td>\n",
       "      <td>0.1</td>\n",
       "      <td>0.510582</td>\n",
       "      <td>0.505405</td>\n",
       "      <td>0.989418</td>\n",
       "      <td>0.669052</td>\n",
       "      <td>0.1</td>\n",
       "    </tr>\n",
       "    <tr>\n",
       "      <th>4</th>\n",
       "      <td>[256, 256, 256]</td>\n",
       "      <td>3</td>\n",
       "      <td>1.137835e+03</td>\n",
       "      <td>5.410048e+03</td>\n",
       "      <td>adam</td>\n",
       "      <td>relu</td>\n",
       "      <td>100</td>\n",
       "      <td>8</td>\n",
       "      <td>0.1</td>\n",
       "      <td>0.502646</td>\n",
       "      <td>0.501333</td>\n",
       "      <td>0.994709</td>\n",
       "      <td>0.666667</td>\n",
       "      <td>0.1</td>\n",
       "    </tr>\n",
       "    <tr>\n",
       "      <th>5</th>\n",
       "      <td>[256, 256, 256]</td>\n",
       "      <td>3</td>\n",
       "      <td>1.502961e+06</td>\n",
       "      <td>6.901925e+05</td>\n",
       "      <td>adamax</td>\n",
       "      <td>leaky_relu</td>\n",
       "      <td>100</td>\n",
       "      <td>8</td>\n",
       "      <td>0.1</td>\n",
       "      <td>0.566138</td>\n",
       "      <td>0.574850</td>\n",
       "      <td>0.507937</td>\n",
       "      <td>0.539326</td>\n",
       "      <td>0.1</td>\n",
       "    </tr>\n",
       "    <tr>\n",
       "      <th>6</th>\n",
       "      <td>[256, 256, 256]</td>\n",
       "      <td>3</td>\n",
       "      <td>4.587028e+05</td>\n",
       "      <td>6.054484e+05</td>\n",
       "      <td>adamax</td>\n",
       "      <td>leaky_relu</td>\n",
       "      <td>100</td>\n",
       "      <td>8</td>\n",
       "      <td>0.1</td>\n",
       "      <td>0.540587</td>\n",
       "      <td>0.539792</td>\n",
       "      <td>0.539792</td>\n",
       "      <td>0.539792</td>\n",
       "      <td>0.1</td>\n",
       "    </tr>\n",
       "    <tr>\n",
       "      <th>7</th>\n",
       "      <td>[256, 256, 256]</td>\n",
       "      <td>3</td>\n",
       "      <td>8.699251e+05</td>\n",
       "      <td>1.600187e+06</td>\n",
       "      <td>adamax</td>\n",
       "      <td>leaky_relu</td>\n",
       "      <td>100</td>\n",
       "      <td>8</td>\n",
       "      <td>0.1</td>\n",
       "      <td>0.555556</td>\n",
       "      <td>0.560694</td>\n",
       "      <td>0.513228</td>\n",
       "      <td>0.535912</td>\n",
       "      <td>0.1</td>\n",
       "    </tr>\n",
       "  </tbody>\n",
       "</table>\n",
       "</div>"
      ],
      "text/plain": [
       "      [64, 32, 32]  3    10107106.0    3404044.25    adam        relu    5  \\\n",
       "0     [64, 32, 32]  3  2.295628e+07  1.039324e+07    adam        relu    5   \n",
       "1     [64, 32, 32]  3  1.183516e+07  2.998126e+06    adam        relu    5   \n",
       "2  [256, 256, 256]  3  4.366338e+06  1.950166e+06    adam        relu    5   \n",
       "3  [256, 256, 256]  3  1.138646e+04  1.759928e+04    adam        relu   30   \n",
       "4  [256, 256, 256]  3  1.137835e+03  5.410048e+03    adam        relu  100   \n",
       "5  [256, 256, 256]  3  1.502961e+06  6.901925e+05  adamax  leaky_relu  100   \n",
       "6  [256, 256, 256]  3  4.587028e+05  6.054484e+05  adamax  leaky_relu  100   \n",
       "7  [256, 256, 256]  3  8.699251e+05  1.600187e+06  adamax  leaky_relu  100   \n",
       "\n",
       "   64  0.1  0.5264550264550265       0.5  0.8435754189944135  \\\n",
       "0  64  0.1            0.558201  0.551887            0.619048   \n",
       "1  64  0.1            0.457672  0.469925            0.661376   \n",
       "2  16  0.1            0.513228  0.507886            0.851852   \n",
       "3  16  0.1            0.510582  0.505405            0.989418   \n",
       "4   8  0.1            0.502646  0.501333            0.994709   \n",
       "5   8  0.1            0.566138  0.574850            0.507937   \n",
       "6   8  0.1            0.540587  0.539792            0.539792   \n",
       "7   8  0.1            0.555556  0.560694            0.513228   \n",
       "\n",
       "   0.6278586278586279  0.1.1  \n",
       "0            0.583541    0.1  \n",
       "1            0.549451    0.1  \n",
       "2            0.636364    0.1  \n",
       "3            0.669052    0.1  \n",
       "4            0.666667    0.1  \n",
       "5            0.539326    0.1  \n",
       "6            0.539792    0.1  \n",
       "7            0.535912    0.1  "
      ]
     },
     "execution_count": 4,
     "metadata": {},
     "output_type": "execute_result"
    }
   ],
   "source": [
    "results_all = pd.read_csv('data/models/results_all.csv')\n",
    "results_all"
   ]
  },
  {
   "cell_type": "code",
   "execution_count": 5,
   "id": "8a05cc44e907e980",
   "metadata": {
    "ExecuteTime": {
     "end_time": "2024-01-22T16:44:16.515568500Z",
     "start_time": "2024-01-22T16:44:16.231684700Z"
    },
    "collapsed": false
   },
   "outputs": [
    {
     "name": "stdout",
     "output_type": "stream",
     "text": [
      "28/28 [==============================] - 0s 990us/step\n"
     ]
    },
    {
     "data": {
      "text/html": [
       "<div>\n",
       "<style scoped>\n",
       "    .dataframe tbody tr th:only-of-type {\n",
       "        vertical-align: middle;\n",
       "    }\n",
       "\n",
       "    .dataframe tbody tr th {\n",
       "        vertical-align: top;\n",
       "    }\n",
       "\n",
       "    .dataframe thead th {\n",
       "        text-align: right;\n",
       "    }\n",
       "</style>\n",
       "<table border=\"1\" class=\"dataframe\">\n",
       "  <thead>\n",
       "    <tr style=\"text-align: right;\">\n",
       "      <th></th>\n",
       "      <th>Actual</th>\n",
       "      <th>Predicted</th>\n",
       "    </tr>\n",
       "  </thead>\n",
       "  <tbody>\n",
       "    <tr>\n",
       "      <th>0</th>\n",
       "      <td>False</td>\n",
       "      <td>0.0</td>\n",
       "    </tr>\n",
       "    <tr>\n",
       "      <th>1</th>\n",
       "      <td>False</td>\n",
       "      <td>1.0</td>\n",
       "    </tr>\n",
       "    <tr>\n",
       "      <th>2</th>\n",
       "      <td>True</td>\n",
       "      <td>0.0</td>\n",
       "    </tr>\n",
       "    <tr>\n",
       "      <th>3</th>\n",
       "      <td>True</td>\n",
       "      <td>0.0</td>\n",
       "    </tr>\n",
       "    <tr>\n",
       "      <th>4</th>\n",
       "      <td>True</td>\n",
       "      <td>0.0</td>\n",
       "    </tr>\n",
       "    <tr>\n",
       "      <th>...</th>\n",
       "      <td>...</td>\n",
       "      <td>...</td>\n",
       "    </tr>\n",
       "    <tr>\n",
       "      <th>877</th>\n",
       "      <td>True</td>\n",
       "      <td>0.0</td>\n",
       "    </tr>\n",
       "    <tr>\n",
       "      <th>878</th>\n",
       "      <td>False</td>\n",
       "      <td>1.0</td>\n",
       "    </tr>\n",
       "    <tr>\n",
       "      <th>879</th>\n",
       "      <td>False</td>\n",
       "      <td>0.0</td>\n",
       "    </tr>\n",
       "    <tr>\n",
       "      <th>880</th>\n",
       "      <td>True</td>\n",
       "      <td>1.0</td>\n",
       "    </tr>\n",
       "    <tr>\n",
       "      <th>881</th>\n",
       "      <td>False</td>\n",
       "      <td>0.0</td>\n",
       "    </tr>\n",
       "  </tbody>\n",
       "</table>\n",
       "<p>882 rows × 2 columns</p>\n",
       "</div>"
      ],
      "text/plain": [
       "     Actual  Predicted\n",
       "0     False        0.0\n",
       "1     False        1.0\n",
       "2      True        0.0\n",
       "3      True        0.0\n",
       "4      True        0.0\n",
       "..      ...        ...\n",
       "877    True        0.0\n",
       "878   False        1.0\n",
       "879   False        0.0\n",
       "880    True        1.0\n",
       "881   False        0.0\n",
       "\n",
       "[882 rows x 2 columns]"
      ]
     },
     "execution_count": 5,
     "metadata": {},
     "output_type": "execute_result"
    }
   ],
   "source": [
    "# # Make predictions for all the data\n",
    "all_data_predictions = model.predict(X_train)\n",
    "\n",
    "# Create a new DataFrame to store the actual and predicted values\n",
    "# Create a new DataFrame to store the actual and predicted values\n",
    "# Create a new DataFrame to store the actual and predicted values\n",
    "predictions_df = pd.DataFrame({'Actual': y_train['Категориальная переменная'].values.flatten(), 'Predicted': all_data_predictions.flatten()})\n",
    "\n",
    "# Print the DataFrame\n",
    "predictions_df"
   ]
  }
 ],
 "metadata": {
  "kernelspec": {
   "display_name": "Python 3",
   "language": "python",
   "name": "python3"
  },
  "language_info": {
   "codemirror_mode": {
    "name": "ipython",
    "version": 3
   },
   "file_extension": ".py",
   "mimetype": "text/x-python",
   "name": "python",
   "nbconvert_exporter": "python",
   "pygments_lexer": "ipython3",
   "version": "3.10.13"
  }
 },
 "nbformat": 4,
 "nbformat_minor": 5
}
